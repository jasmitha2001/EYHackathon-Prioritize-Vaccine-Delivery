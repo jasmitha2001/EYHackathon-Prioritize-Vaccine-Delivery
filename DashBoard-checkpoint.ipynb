{
 "cells": [
  {
   "cell_type": "code",
   "execution_count": 1,
   "metadata": {
    "scrolled": true
   },
   "outputs": [],
   "source": [
    "#pip install plotly"
   ]
  },
  {
   "cell_type": "code",
   "execution_count": 2,
   "metadata": {},
   "outputs": [],
   "source": [
    "#pip install dash"
   ]
  },
  {
   "cell_type": "code",
   "execution_count": 3,
   "metadata": {},
   "outputs": [],
   "source": [
    "#pip install dash_bootstrap_components"
   ]
  },
  {
   "cell_type": "code",
   "execution_count": 4,
   "metadata": {},
   "outputs": [],
   "source": [
    "import pandas as pd\n",
    "import numpy as np"
   ]
  },
  {
   "cell_type": "code",
   "execution_count": 5,
   "metadata": {},
   "outputs": [],
   "source": [
    "import matplotlib.pyplot as plt\n",
    "import plotly.express as px\n",
    "import plotly.io as pio\n",
    "pio.renderers.default = \"browser\"\n",
    "import dash\n",
    "from dash.dependencies import Input, Output\n",
    "import dash_core_components as dcc\n",
    "import dash_html_components as html\n",
    "import dash_bootstrap_components as dbc"
   ]
  },
  {
   "cell_type": "code",
   "execution_count": 6,
   "metadata": {},
   "outputs": [],
   "source": [
    "covid=pd.read_csv(\"state_wise.csv\")"
   ]
  },
  {
   "cell_type": "code",
   "execution_count": 7,
   "metadata": {},
   "outputs": [
    {
     "data": {
      "text/html": [
       "<div>\n",
       "<style scoped>\n",
       "    .dataframe tbody tr th:only-of-type {\n",
       "        vertical-align: middle;\n",
       "    }\n",
       "\n",
       "    .dataframe tbody tr th {\n",
       "        vertical-align: top;\n",
       "    }\n",
       "\n",
       "    .dataframe thead th {\n",
       "        text-align: right;\n",
       "    }\n",
       "</style>\n",
       "<table border=\"1\" class=\"dataframe\">\n",
       "  <thead>\n",
       "    <tr style=\"text-align: right;\">\n",
       "      <th></th>\n",
       "      <th>State</th>\n",
       "      <th>Confirmed</th>\n",
       "      <th>Recovered</th>\n",
       "      <th>Deaths</th>\n",
       "      <th>Active</th>\n",
       "      <th>Last_Updated_Time</th>\n",
       "      <th>Migrated_Other</th>\n",
       "      <th>State_code</th>\n",
       "      <th>Delta_Confirmed</th>\n",
       "      <th>Delta_Recovered</th>\n",
       "      <th>Delta_Deaths</th>\n",
       "      <th>State_Notes</th>\n",
       "    </tr>\n",
       "  </thead>\n",
       "  <tbody>\n",
       "    <tr>\n",
       "      <th>0</th>\n",
       "      <td>Total</td>\n",
       "      <td>10310778</td>\n",
       "      <td>9910982</td>\n",
       "      <td>149305</td>\n",
       "      <td>247630</td>\n",
       "      <td>2/1/2021 19:44:31</td>\n",
       "      <td>2861</td>\n",
       "      <td>TT</td>\n",
       "      <td>4291</td>\n",
       "      <td>5358</td>\n",
       "      <td>50</td>\n",
       "      <td>NaN</td>\n",
       "    </tr>\n",
       "    <tr>\n",
       "      <th>1</th>\n",
       "      <td>Maharashtra</td>\n",
       "      <td>1935636</td>\n",
       "      <td>1832825</td>\n",
       "      <td>49580</td>\n",
       "      <td>52084</td>\n",
       "      <td>01/01/2021 21:55:34</td>\n",
       "      <td>1147</td>\n",
       "      <td>MH</td>\n",
       "      <td>0</td>\n",
       "      <td>0</td>\n",
       "      <td>0</td>\n",
       "      <td>[Dec 16]:10,218 duplicate cases &amp; other state ...</td>\n",
       "    </tr>\n",
       "    <tr>\n",
       "      <th>2</th>\n",
       "      <td>Karnataka</td>\n",
       "      <td>921128</td>\n",
       "      <td>898176</td>\n",
       "      <td>12099</td>\n",
       "      <td>10834</td>\n",
       "      <td>02/01/2021 19:38:34</td>\n",
       "      <td>19</td>\n",
       "      <td>KA</td>\n",
       "      <td>755</td>\n",
       "      <td>976</td>\n",
       "      <td>3</td>\n",
       "      <td>NaN</td>\n",
       "    </tr>\n",
       "    <tr>\n",
       "      <th>3</th>\n",
       "      <td>Andhra Pradesh</td>\n",
       "      <td>882850</td>\n",
       "      <td>872545</td>\n",
       "      <td>7111</td>\n",
       "      <td>3194</td>\n",
       "      <td>02/01/2021 19:38:35</td>\n",
       "      <td>0</td>\n",
       "      <td>AP</td>\n",
       "      <td>238</td>\n",
       "      <td>279</td>\n",
       "      <td>3</td>\n",
       "      <td>NaN</td>\n",
       "    </tr>\n",
       "    <tr>\n",
       "      <th>4</th>\n",
       "      <td>Tamil Nadu</td>\n",
       "      <td>819845</td>\n",
       "      <td>799427</td>\n",
       "      <td>12146</td>\n",
       "      <td>8272</td>\n",
       "      <td>02/01/2021 19:38:37</td>\n",
       "      <td>0</td>\n",
       "      <td>TN</td>\n",
       "      <td>910</td>\n",
       "      <td>1007</td>\n",
       "      <td>11</td>\n",
       "      <td>[July 22]: 444 backdated deceased entries adde...</td>\n",
       "    </tr>\n",
       "  </tbody>\n",
       "</table>\n",
       "</div>"
      ],
      "text/plain": [
       "            State  Confirmed  Recovered  Deaths  Active    Last_Updated_Time  \\\n",
       "0           Total   10310778    9910982  149305  247630    2/1/2021 19:44:31   \n",
       "1     Maharashtra    1935636    1832825   49580   52084  01/01/2021 21:55:34   \n",
       "2       Karnataka     921128     898176   12099   10834  02/01/2021 19:38:34   \n",
       "3  Andhra Pradesh     882850     872545    7111    3194  02/01/2021 19:38:35   \n",
       "4      Tamil Nadu     819845     799427   12146    8272  02/01/2021 19:38:37   \n",
       "\n",
       "   Migrated_Other State_code  Delta_Confirmed  Delta_Recovered  Delta_Deaths  \\\n",
       "0            2861         TT             4291             5358            50   \n",
       "1            1147         MH                0                0             0   \n",
       "2              19         KA              755              976             3   \n",
       "3               0         AP              238              279             3   \n",
       "4               0         TN              910             1007            11   \n",
       "\n",
       "                                         State_Notes  \n",
       "0                                                NaN  \n",
       "1  [Dec 16]:10,218 duplicate cases & other state ...  \n",
       "2                                                NaN  \n",
       "3                                                NaN  \n",
       "4  [July 22]: 444 backdated deceased entries adde...  "
      ]
     },
     "execution_count": 7,
     "metadata": {},
     "output_type": "execute_result"
    }
   ],
   "source": [
    "covid.head()"
   ]
  },
  {
   "cell_type": "code",
   "execution_count": 8,
   "metadata": {},
   "outputs": [],
   "source": [
    "def generate_card_content(card_header,card_value):\n",
    "    card_head_style = {'textAlign':'center','fontSize':'150%'}\n",
    "    card_body_style = {'textAlign':'center','fontSize':'200%'}\n",
    "    card_header = dbc.CardHeader(card_header,style=card_head_style)\n",
    "    card_body = dbc.CardBody(\n",
    "        [\n",
    "            html.H5(f\"{int(card_value):,}\", className=\"card-title\",style=card_body_style),\n",
    "            html.P(\n",
    "                className=\"card-text\",style={'textAlign':'center'}\n",
    "            ),\n",
    "        ]\n",
    "    )\n",
    "    card = [card_header,card_body]\n",
    "    return card"
   ]
  },
  {
   "cell_type": "code",
   "execution_count": 9,
   "metadata": {},
   "outputs": [],
   "source": [
    "colors = {\n",
    "    'background': '#111111',\n",
    "    'bodyColor':'#F2DFCE',\n",
    "    'text': '#7FDBFF'\n",
    "}\n",
    "def get_page_heading_style():\n",
    "    return {'backgroundColor': colors['background']}\n",
    "\n",
    "\n",
    "def get_page_heading_title():\n",
    "    return html.H1(children='COVID-19 Dashboard',\n",
    "                                        style={\n",
    "                                        'textAlign': 'center',\n",
    "                                        'color': colors['text']\n",
    "                                    })\n",
    "\n",
    "def get_page_heading_subtitle():\n",
    "    return html.Div(children='Visualize Covid-19 data generated from sources all over the world.',\n",
    "                                         style={\n",
    "                                             'textAlign':'center',\n",
    "                                             'color':colors['text']\n",
    "                                         })\n",
    "def generate_page_header():\n",
    "    main_header =  dbc.Row(\n",
    "                            [\n",
    "                                dbc.Col(get_page_heading_title(),md=12)\n",
    "                            ],\n",
    "                            align=\"center\",\n",
    "                            style=get_page_heading_style()\n",
    "                        )\n",
    "    subtitle_header = dbc.Row(\n",
    "                            [\n",
    "                                dbc.Col(get_page_heading_subtitle(),md=12)\n",
    "                            ],\n",
    "                            align=\"center\",\n",
    "                            style=get_page_heading_style()\n",
    "                        )\n",
    "    header = (main_header,subtitle_header)\n",
    "    return header\n",
    "def table():\n",
    "        return html.Div(html_file,\n",
    "                                         style={\n",
    "                                             'textAlign':'center',\n",
    "                                             'color':colors['text']\n",
    "                                         })"
   ]
  },
  {
   "cell_type": "code",
   "execution_count": 10,
   "metadata": {},
   "outputs": [],
   "source": [
    "def get_country_list():\n",
    "    return np.delete(covid['State'].unique(), np.where(covid['State'].unique() == 'Total'))\n",
    "\n",
    "def create_dropdown_list(cntry_list):\n",
    "    dropdown_list = []\n",
    "    for cntry in sorted(cntry_list):\n",
    "        tmp_dict = {'label':cntry,'value':cntry}\n",
    "        dropdown_list.append(tmp_dict)\n",
    "    return dropdown_list\n",
    "\n",
    "def get_country_dropdown(id):\n",
    "    return html.Div([\n",
    "                        html.Label('Select Country'),\n",
    "                        dcc.Dropdown(id='my-id'+str(id),\n",
    "                            options=create_dropdown_list(get_country_list()),\n",
    "                            value='Total'\n",
    "                        ),\n",
    "                        html.Div(id='my-div'+str(id))\n",
    "                    ])"
   ]
  },
  {
   "cell_type": "code",
   "execution_count": 11,
   "metadata": {},
   "outputs": [
    {
     "data": {
      "text/plain": [
       "Div([Label('Select Country'), Dropdown(id='my-id1', options=[{'label': 'Andaman and Nicobar Islands', 'value': 'Andaman and Nicobar Islands'}, {'label': 'Andhra Pradesh', 'value': 'Andhra Pradesh'}, {'label': 'Arunachal Pradesh', 'value': 'Arunachal Pradesh'}, {'label': 'Assam', 'value': 'Assam'}, {'label': 'Bihar', 'value': 'Bihar'}, {'label': 'Chandigarh', 'value': 'Chandigarh'}, {'label': 'Chhattisgarh', 'value': 'Chhattisgarh'}, {'label': 'Dadra and Nagar Haveli and Daman and Diu', 'value': 'Dadra and Nagar Haveli and Daman and Diu'}, {'label': 'Delhi', 'value': 'Delhi'}, {'label': 'Goa', 'value': 'Goa'}, {'label': 'Gujarat', 'value': 'Gujarat'}, {'label': 'Haryana', 'value': 'Haryana'}, {'label': 'Himachal Pradesh', 'value': 'Himachal Pradesh'}, {'label': 'Jammu and Kashmir', 'value': 'Jammu and Kashmir'}, {'label': 'Jharkhand', 'value': 'Jharkhand'}, {'label': 'Karnataka', 'value': 'Karnataka'}, {'label': 'Kerala', 'value': 'Kerala'}, {'label': 'Ladakh', 'value': 'Ladakh'}, {'label': 'Lakshadweep', 'value': 'Lakshadweep'}, {'label': 'Madhya Pradesh', 'value': 'Madhya Pradesh'}, {'label': 'Maharashtra', 'value': 'Maharashtra'}, {'label': 'Manipur', 'value': 'Manipur'}, {'label': 'Meghalaya', 'value': 'Meghalaya'}, {'label': 'Mizoram', 'value': 'Mizoram'}, {'label': 'Nagaland', 'value': 'Nagaland'}, {'label': 'Odisha', 'value': 'Odisha'}, {'label': 'Puducherry', 'value': 'Puducherry'}, {'label': 'Punjab', 'value': 'Punjab'}, {'label': 'Rajasthan', 'value': 'Rajasthan'}, {'label': 'Sikkim', 'value': 'Sikkim'}, {'label': 'State Unassigned', 'value': 'State Unassigned'}, {'label': 'Tamil Nadu', 'value': 'Tamil Nadu'}, {'label': 'Telangana', 'value': 'Telangana'}, {'label': 'Tripura', 'value': 'Tripura'}, {'label': 'Uttar Pradesh', 'value': 'Uttar Pradesh'}, {'label': 'Uttarakhand', 'value': 'Uttarakhand'}, {'label': 'West Bengal', 'value': 'West Bengal'}], value='Total'), Div(id='my-div1')])"
      ]
     },
     "execution_count": 11,
     "metadata": {},
     "output_type": "execute_result"
    }
   ],
   "source": [
    "get_country_dropdown(1)"
   ]
  },
  {
   "cell_type": "code",
   "execution_count": 12,
   "metadata": {},
   "outputs": [],
   "source": [
    "def get_cntry_total(covid,case,State):\n",
    "    return covid[covid['State']==State].loc[:,[case]].sum()"
   ]
  },
  {
   "cell_type": "code",
   "execution_count": 13,
   "metadata": {},
   "outputs": [],
   "source": [
    "def generate_cards(State='Total'):\n",
    "    confirmed = get_cntry_total(covid,'Confirmed',State)\n",
    "    deaths = get_cntry_total(covid,'Deaths',State)\n",
    "    recovered  = get_cntry_total(covid,'Recovered',State)\n",
    "    active = get_cntry_total(covid,'Active',State)\n",
    "    cards = html.Div(\n",
    "        [\n",
    "            dbc.Row(\n",
    "                [\n",
    "                    dbc.Col(dbc.Card(generate_card_content(\"Recovered\",recovered), color=\"success\", inverse=True),md=dict(size=2,offset=3)),\n",
    "                    dbc.Col(dbc.Card(generate_card_content(\"Confirmed\",confirmed), color=\"warning\", inverse=True),md=dict(size=2)),\n",
    "                    dbc.Col(dbc.Card(generate_card_content(\"Active\",active), color=\"primary\", inverse=True),md=dict(size=2)),\n",
    "                    dbc.Col(dbc.Card(generate_card_content(\"Dead\",deaths),color=\"dark\", inverse=True),md=dict(size=2)),\n",
    "                ],\n",
    "                className=\"mb-4\",\n",
    "            ),\n",
    "        ],id='card1'\n",
    "    )\n",
    "    return cards"
   ]
  },
  {
   "cell_type": "code",
   "execution_count": 14,
   "metadata": {},
   "outputs": [],
   "source": [
    "def generate_layout():\n",
    "    page_header = generate_page_header()\n",
    "    layout = dbc.Container(\n",
    "        [\n",
    "            page_header[0],\n",
    "            page_header[1],\n",
    "            html.Hr(),\n",
    "            generate_cards(),\n",
    "            html.Hr(),\n",
    "            dbc.Row(\n",
    "                [\n",
    "                    dbc.Col(get_country_dropdown(id=1),md=dict(size=4,offset=4))                    \n",
    "                ],\n",
    "            \n",
    "            ),\n",
    "            dbc.Row(\n",
    "                [                \n",
    "                    \n",
    "        \n",
    "                ],\n",
    "                align=\"center\",\n",
    "\n",
    "            ),\n",
    "            dbc.Row(\n",
    "                [\n",
    "                ]\n",
    "            \n",
    "            ),\n",
    "        ],fluid=True,style={'backgroundColor': colors['bodyColor']}\n",
    "    )\n",
    "    return layout"
   ]
  },
  {
   "cell_type": "code",
   "execution_count": 15,
   "metadata": {},
   "outputs": [],
   "source": [
    "external_stylesheets = [dbc.themes.BOOTSTRAP]"
   ]
  },
  {
   "cell_type": "code",
   "execution_count": 16,
   "metadata": {},
   "outputs": [],
   "source": [
    "app = dash.Dash(__name__, external_stylesheets=external_stylesheets)\n",
    "app.title = 'Covid-19 Dashboard'"
   ]
  },
  {
   "cell_type": "code",
   "execution_count": 17,
   "metadata": {},
   "outputs": [],
   "source": [
    "app.layout=generate_layout()"
   ]
  },
  {
   "cell_type": "code",
   "execution_count": 18,
   "metadata": {},
   "outputs": [],
   "source": [
    "@app.callback(\n",
    "    [Output(component_id='card1',component_property='children')], #overall card numbers\n",
    "    [Input(component_id='my-id1',component_property='value')] #slider\n",
    ")\n",
    "def update_output_div(input_value1):\n",
    "    return generate_cards(input_value1)"
   ]
  },
  {
   "cell_type": "code",
   "execution_count": null,
   "metadata": {},
   "outputs": [
    {
     "name": "stdout",
     "output_type": "stream",
     "text": [
      "Dash is running on http://127.0.0.1:5000/\n",
      "\n",
      " * Serving Flask app \"__main__\" (lazy loading)\n",
      " * Environment: production\n",
      "   WARNING: This is a development server. Do not use it in a production deployment.\n",
      "   Use a production WSGI server instead.\n",
      " * Debug mode: off\n"
     ]
    },
    {
     "name": "stderr",
     "output_type": "stream",
     "text": [
      " * Running on http://127.0.0.1:5000/ (Press CTRL+C to quit)\n",
      "127.0.0.1 - - [04/Jan/2021 14:01:30] \"\u001b[37mGET / HTTP/1.1\u001b[0m\" 200 -\n",
      "127.0.0.1 - - [04/Jan/2021 14:01:31] \"\u001b[37mGET /_dash-layout HTTP/1.1\u001b[0m\" 200 -\n",
      "127.0.0.1 - - [04/Jan/2021 14:01:31] \"\u001b[37mGET /_dash-dependencies HTTP/1.1\u001b[0m\" 200 -\n"
     ]
    },
    {
     "name": "stdout",
     "output_type": "stream",
     "text": [
      "Total\n",
      "Exception on /_dash-update-component [POST]\n",
      "Traceback (most recent call last):\n",
      "  File \"c:\\users\\pavani\\appdata\\local\\programs\\python\\python38-32\\lib\\site-packages\\flask\\app.py\", line 2447, in wsgi_app\n",
      "    response = self.full_dispatch_request()\n",
      "  File \"c:\\users\\pavani\\appdata\\local\\programs\\python\\python38-32\\lib\\site-packages\\flask\\app.py\", line 1952, in full_dispatch_request\n",
      "    rv = self.handle_user_exception(e)\n",
      "  File \"c:\\users\\pavani\\appdata\\local\\programs\\python\\python38-32\\lib\\site-packages\\flask\\app.py\", line 1821, in handle_user_exception\n",
      "    reraise(exc_type, exc_value, tb)\n",
      "  File \"c:\\users\\pavani\\appdata\\local\\programs\\python\\python38-32\\lib\\site-packages\\flask\\_compat.py\", line 39, in reraise\n",
      "    raise value\n",
      "  File \"c:\\users\\pavani\\appdata\\local\\programs\\python\\python38-32\\lib\\site-packages\\flask\\app.py\", line 1950, in full_dispatch_request\n",
      "    rv = self.dispatch_request()\n",
      "  File \"c:\\users\\pavani\\appdata\\local\\programs\\python\\python38-32\\lib\\site-packages\\flask\\app.py\", line 1936, in dispatch_request\n",
      "    return self.view_functions[rule.endpoint](**req.view_args)\n",
      "  File \"c:\\users\\pavani\\appdata\\local\\programs\\python\\python38-32\\lib\\site-packages\\dash\\dash.py\", line 1076, in dispatch\n",
      "    response.set_data(func(*args, outputs_list=outputs_list))\n",
      "  File \"c:\\users\\pavani\\appdata\\local\\programs\\python\\python38-32\\lib\\site-packages\\dash\\dash.py\", line 1017, in add_context\n",
      "    _validate.validate_multi_return(output_spec, output_value, callback_id)\n",
      "  File \"c:\\users\\pavani\\appdata\\local\\programs\\python\\python38-32\\lib\\site-packages\\dash\\_validate.py\", line 115, in validate_multi_return\n",
      "    raise exceptions.InvalidCallbackReturnValue(\n",
      "dash.exceptions.InvalidCallbackReturnValue: The callback ..card1.children.. is a multi-output.\n",
      "Expected the output type to be a list or tuple but got:\n",
      "Div(children=[Row(children=[Col(children=Card(children=[CardHeader(children='Recovered', style={'textAlign': 'center', 'fontSize': '150%'}), CardBody([H5(children='9,910,982', className='card-title', style={'textAlign': 'center', 'fontSize': '200%'}), P(className='card-text', style={'textAlign': 'center'})])], color='success', inverse=True), md={'size': 2, 'offset': 3}), Col(children=Card(children=[CardHeader(children='Confirmed', style={'textAlign': 'center', 'fontSize': '150%'}), CardBody([H5(children='10,310,778', className='card-title', style={'textAlign': 'center', 'fontSize': '200%'}), P(className='card-text', style={'textAlign': 'center'})])], color='warning', inverse=True), md={'size': 2}), Col(children=Card(children=[CardHeader(children='Active', style={'textAlign': 'center', 'fontSize': '150%'}), CardBody([H5(children='247,630', className='card-title', style={'textAlign': 'center', 'fontSize': '200%'}), P(className='card-text', style={'textAlign': 'center'})])], color='primary', inverse=True), md={'size': 2}), Col(children=Card(children=[CardHeader(children='Dead', style={'textAlign': 'center', 'fontSize': '150%'}), CardBody([H5(children='149,305', className='card-title', style={'textAlign': 'center', 'fontSize': '200%'}), P(className='card-text', style={'textAlign': 'center'})])], color='dark', inverse=True), md={'size': 2})], className='mb-4')], id='card1').\n"
     ]
    },
    {
     "name": "stderr",
     "output_type": "stream",
     "text": [
      "127.0.0.1 - - [04/Jan/2021 14:01:31] \"\u001b[35m\u001b[1mPOST /_dash-update-component HTTP/1.1\u001b[0m\" 500 -\n"
     ]
    },
    {
     "name": "stdout",
     "output_type": "stream",
     "text": [
      "Arunachal Pradesh\n",
      "Exception on /_dash-update-component [POST]\n",
      "Traceback (most recent call last):\n",
      "  File \"c:\\users\\pavani\\appdata\\local\\programs\\python\\python38-32\\lib\\site-packages\\flask\\app.py\", line 2447, in wsgi_app\n",
      "    response = self.full_dispatch_request()\n",
      "  File \"c:\\users\\pavani\\appdata\\local\\programs\\python\\python38-32\\lib\\site-packages\\flask\\app.py\", line 1952, in full_dispatch_request\n",
      "    rv = self.handle_user_exception(e)\n",
      "  File \"c:\\users\\pavani\\appdata\\local\\programs\\python\\python38-32\\lib\\site-packages\\flask\\app.py\", line 1821, in handle_user_exception\n",
      "    reraise(exc_type, exc_value, tb)\n",
      "  File \"c:\\users\\pavani\\appdata\\local\\programs\\python\\python38-32\\lib\\site-packages\\flask\\_compat.py\", line 39, in reraise\n",
      "    raise value\n",
      "  File \"c:\\users\\pavani\\appdata\\local\\programs\\python\\python38-32\\lib\\site-packages\\flask\\app.py\", line 1950, in full_dispatch_request\n",
      "    rv = self.dispatch_request()\n",
      "  File \"c:\\users\\pavani\\appdata\\local\\programs\\python\\python38-32\\lib\\site-packages\\flask\\app.py\", line 1936, in dispatch_request\n",
      "    return self.view_functions[rule.endpoint](**req.view_args)\n",
      "  File \"c:\\users\\pavani\\appdata\\local\\programs\\python\\python38-32\\lib\\site-packages\\dash\\dash.py\", line 1076, in dispatch\n",
      "    response.set_data(func(*args, outputs_list=outputs_list))\n",
      "  File \"c:\\users\\pavani\\appdata\\local\\programs\\python\\python38-32\\lib\\site-packages\\dash\\dash.py\", line 1017, in add_context\n",
      "    _validate.validate_multi_return(output_spec, output_value, callback_id)\n",
      "  File \"c:\\users\\pavani\\appdata\\local\\programs\\python\\python38-32\\lib\\site-packages\\dash\\_validate.py\", line 115, in validate_multi_return\n",
      "    raise exceptions.InvalidCallbackReturnValue(\n",
      "dash.exceptions.InvalidCallbackReturnValue: The callback ..card1.children.. is a multi-output.\n",
      "Expected the output type to be a list or tuple but got:\n",
      "Div(children=[Row(children=[Col(children=Card(children=[CardHeader(children='Recovered', style={'textAlign': 'center', 'fontSize': '150%'}), CardBody([H5(children='16,566', className='card-title', style={'textAlign': 'center', 'fontSize': '200%'}), P(className='card-text', style={'textAlign': 'center'})])], color='success', inverse=True), md={'size': 2, 'offset': 3}), Col(children=Card(children=[CardHeader(children='Confirmed', style={'textAlign': 'center', 'fontSize': '150%'}), CardBody([H5(children='16,719', className='card-title', style={'textAlign': 'center', 'fontSize': '200%'}), P(className='card-text', style={'textAlign': 'center'})])], color='warning', inverse=True), md={'size': 2}), Col(children=Card(children=[CardHeader(children='Active', style={'textAlign': 'center', 'fontSize': '150%'}), CardBody([H5(children='97', className='card-title', style={'textAlign': 'center', 'fontSize': '200%'}), P(className='card-text', style={'textAlign': 'center'})])], color='primary', inverse=True), md={'size': 2}), Col(children=Card(children=[CardHeader(children='Dead', style={'textAlign': 'center', 'fontSize': '150%'}), CardBody([H5(children='56', className='card-title', style={'textAlign': 'center', 'fontSize': '200%'}), P(className='card-text', style={'textAlign': 'center'})])], color='dark', inverse=True), md={'size': 2})], className='mb-4')], id='card1').\n"
     ]
    },
    {
     "name": "stderr",
     "output_type": "stream",
     "text": [
      "127.0.0.1 - - [04/Jan/2021 14:01:35] \"\u001b[35m\u001b[1mPOST /_dash-update-component HTTP/1.1\u001b[0m\" 500 -\n",
      "127.0.0.1 - - [04/Jan/2021 14:01:42] \"\u001b[37mGET /_dash-component-suites/dash_core_components/dash_core_components-shared.js.map HTTP/1.1\u001b[0m\" 200 -\n",
      "127.0.0.1 - - [04/Jan/2021 14:01:42] \"\u001b[37mGET /_dash-component-suites/dash_html_components/dash_html_components.min.js.map HTTP/1.1\u001b[0m\" 200 -\n",
      "127.0.0.1 - - [04/Jan/2021 14:01:42] \"\u001b[37mGET /_dash-component-suites/dash_core_components/async-dropdown.js.map HTTP/1.1\u001b[0m\" 200 -\n",
      "127.0.0.1 - - [04/Jan/2021 14:01:42] \"\u001b[37mGET /_dash-component-suites/dash_core_components/dash_core_components.min.js.map HTTP/1.1\u001b[0m\" 200 -\n"
     ]
    },
    {
     "name": "stdout",
     "output_type": "stream",
     "text": [
      "Bihar\n",
      "Exception on /_dash-update-component [POST]\n",
      "Traceback (most recent call last):\n",
      "  File \"c:\\users\\pavani\\appdata\\local\\programs\\python\\python38-32\\lib\\site-packages\\flask\\app.py\", line 2447, in wsgi_app\n",
      "    response = self.full_dispatch_request()\n",
      "  File \"c:\\users\\pavani\\appdata\\local\\programs\\python\\python38-32\\lib\\site-packages\\flask\\app.py\", line 1952, in full_dispatch_request\n",
      "    rv = self.handle_user_exception(e)\n",
      "  File \"c:\\users\\pavani\\appdata\\local\\programs\\python\\python38-32\\lib\\site-packages\\flask\\app.py\", line 1821, in handle_user_exception\n",
      "    reraise(exc_type, exc_value, tb)\n",
      "  File \"c:\\users\\pavani\\appdata\\local\\programs\\python\\python38-32\\lib\\site-packages\\flask\\_compat.py\", line 39, in reraise\n",
      "    raise value\n",
      "  File \"c:\\users\\pavani\\appdata\\local\\programs\\python\\python38-32\\lib\\site-packages\\flask\\app.py\", line 1950, in full_dispatch_request\n",
      "    rv = self.dispatch_request()\n",
      "  File \"c:\\users\\pavani\\appdata\\local\\programs\\python\\python38-32\\lib\\site-packages\\flask\\app.py\", line 1936, in dispatch_request\n",
      "    return self.view_functions[rule.endpoint](**req.view_args)\n",
      "  File \"c:\\users\\pavani\\appdata\\local\\programs\\python\\python38-32\\lib\\site-packages\\dash\\dash.py\", line 1076, in dispatch\n",
      "    response.set_data(func(*args, outputs_list=outputs_list))\n",
      "  File \"c:\\users\\pavani\\appdata\\local\\programs\\python\\python38-32\\lib\\site-packages\\dash\\dash.py\", line 1017, in add_context\n",
      "    _validate.validate_multi_return(output_spec, output_value, callback_id)\n",
      "  File \"c:\\users\\pavani\\appdata\\local\\programs\\python\\python38-32\\lib\\site-packages\\dash\\_validate.py\", line 115, in validate_multi_return\n",
      "    raise exceptions.InvalidCallbackReturnValue(\n",
      "dash.exceptions.InvalidCallbackReturnValue: The callback ..card1.children.. is a multi-output.\n",
      "Expected the output type to be a list or tuple but got:\n",
      "Div(children=[Row(children=[Col(children=Card(children=[CardHeader(children='Recovered', style={'textAlign': 'center', 'fontSize': '150%'}), CardBody([H5(children='247,579', className='card-title', style={'textAlign': 'center', 'fontSize': '200%'}), P(className='card-text', style={'textAlign': 'center'})])], color='success', inverse=True), md={'size': 2, 'offset': 3}), Col(children=Card(children=[CardHeader(children='Confirmed', style={'textAlign': 'center', 'fontSize': '150%'}), CardBody([H5(children='253,652', className='card-title', style={'textAlign': 'center', 'fontSize': '200%'}), P(className='card-text', style={'textAlign': 'center'})])], color='warning', inverse=True), md={'size': 2}), Col(children=Card(children=[CardHeader(children='Active', style={'textAlign': 'center', 'fontSize': '150%'}), CardBody([H5(children='4,669', className='card-title', style={'textAlign': 'center', 'fontSize': '200%'}), P(className='card-text', style={'textAlign': 'center'})])], color='primary', inverse=True), md={'size': 2}), Col(children=Card(children=[CardHeader(children='Dead', style={'textAlign': 'center', 'fontSize': '150%'}), CardBody([H5(children='1,403', className='card-title', style={'textAlign': 'center', 'fontSize': '200%'}), P(className='card-text', style={'textAlign': 'center'})])], color='dark', inverse=True), md={'size': 2})], className='mb-4')], id='card1').\n"
     ]
    },
    {
     "name": "stderr",
     "output_type": "stream",
     "text": [
      "127.0.0.1 - - [04/Jan/2021 14:01:54] \"\u001b[35m\u001b[1mPOST /_dash-update-component HTTP/1.1\u001b[0m\" 500 -\n"
     ]
    }
   ],
   "source": [
    "app.run_server(port=5000,debug=False)"
   ]
  },
  {
   "cell_type": "code",
   "execution_count": null,
   "metadata": {},
   "outputs": [],
   "source": []
  }
 ],
 "metadata": {
  "kernelspec": {
   "display_name": "Python 3",
   "language": "python",
   "name": "python3"
  },
  "language_info": {
   "codemirror_mode": {
    "name": "ipython",
    "version": 3
   },
   "file_extension": ".py",
   "mimetype": "text/x-python",
   "name": "python",
   "nbconvert_exporter": "python",
   "pygments_lexer": "ipython3",
   "version": "3.8.5"
  }
 },
 "nbformat": 4,
 "nbformat_minor": 4
}
